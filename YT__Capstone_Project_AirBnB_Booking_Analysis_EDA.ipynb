{
  "nbformat": 4,
  "nbformat_minor": 0,
  "metadata": {
    "colab": {
      "private_outputs": true,
      "provenance": [],
      "collapsed_sections": [
        "vncDsAP0Gaoa",
        "FJNUwmbgGyua",
        "w6K7xa23Elo4",
        "yQaldy8SH6Dl",
        "PH-0ReGfmX4f",
        "mDgbUHAGgjLW",
        "O_i_v8NEhb9l",
        "HhfV-JJviCcP",
        "Y3lxredqlCYt",
        "3RnN4peoiCZX",
        "x71ZqKXriCWQ",
        "7hBIi_osiCS2",
        "JlHwYmJAmNHm",
        "35m5QtbWiB9F",
        "PoPl-ycgm1ru",
        "H0kj-8xxnORC",
        "nA9Y7ga8ng1Z",
        "PBTbrJXOngz2",
        "u3PMJOP6ngxN",
        "dauF4eBmngu3",
        "bKJF3rekwFvQ",
        "MSa1f5Uengrz",
        "GF8Ens_Soomf",
        "0wOQAZs5pc--",
        "K5QZ13OEpz2H",
        "lQ7QKXXCp7Bj",
        "448CDAPjqfQr",
        "KSlN3yHqYklG",
        "t6dVpIINYklI",
        "ijmpgYnKYklI",
        "-JiQyfWJYklI",
        "EM7whBJCYoAo",
        "fge-S5ZAYoAp",
        "85gYPyotYoAp",
        "RoGjAbkUYoAp",
        "4Of9eVA-YrdM",
        "iky9q4vBYrdO",
        "F6T5p64dYrdO",
        "y-Ehk30pYrdP",
        "bamQiAODYuh1",
        "QHF8YVU7Yuh3",
        "GwzvFGzlYuh3",
        "qYpmQ266Yuh3",
        "OH-pJp9IphqM",
        "bbFf2-_FphqN",
        "_ouA3fa0phqN",
        "Seke61FWphqN",
        "PIIx-8_IphqN",
        "t27r6nlMphqO",
        "r2jJGEOYphqO",
        "b0JNsNcRphqO",
        "BZR9WyysphqO",
        "jj7wYXLtphqO",
        "eZrbJ2SmphqO",
        "rFu4xreNphqO",
        "YJ55k-q6phqO",
        "gCFgpxoyphqP",
        "OVtJsKN_phqQ",
        "lssrdh5qphqQ",
        "U2RJ9gkRphqQ",
        "1M8mcRywphqQ",
        "tgIPom80phqQ",
        "JMzcOPDDphqR",
        "x-EpHcCOp1ci",
        "X_VqEhTip1ck",
        "8zGJKyg5p1ck",
        "PVzmfK_Ep1ck",
        "n3dbpmDWp1ck",
        "ylSl6qgtp1ck",
        "ZWILFDl5p1ck",
        "M7G43BXep1ck",
        "Ag9LCva-p1cl",
        "E6MkPsBcp1cl",
        "2cELzS2fp1cl",
        "3MPXvC8up1cl",
        "NC_X3p0fY2L0",
        "UV0SzAkaZNRQ",
        "YPEH6qLeZNRQ",
        "q29F0dvdveiT",
        "EXh0U9oCveiU",
        "22aHeOlLveiV",
        "JcMwzZxoAimU",
        "8G2x9gOozGDZ",
        "gCX9965dhzqZ",
        "gIfDvo9L0UH2"
      ]
    },
    "kernelspec": {
      "name": "python3",
      "display_name": "Python 3"
    },
    "language_info": {
      "name": "python"
    }
  },
  "cells": [
    {
      "cell_type": "markdown",
      "source": [
        "# **Project Name**    - Capstone project AirBnb Bookings Analysis EDA"
      ],
      "metadata": {
        "id": "6fhHKYuGi3a6"
      }
    },
    {
      "cell_type": "markdown",
      "source": [
        "* ##### **Project Type**    - EDA\n",
        "* ##### **Contribution**    - Individual\n",
        "\n",
        "\n",
        "\n"
      ],
      "metadata": {
        "id": "-SNrZZKZDxxg"
      }
    },
    {
      "cell_type": "markdown",
      "source": [
        "# **Project Summary -**"
      ],
      "metadata": {
        "id": "FJNUwmbgGyua"
      }
    },
    {
      "cell_type": "markdown",
      "source": [
        "### Overview:\n",
        "The **Airbnb EDA Analysis** project delves into the vast dataset of New York City Airbnb listings, aiming to unravel valuable insights that benefit both hosts and potential guests. This comprehensive analysis encompasses various facets of the Airbnb ecosystem, including listing distribution, pricing dynamics, host performance, guest behaviors, and neighborhood preferences.\n",
        "\n",
        "## Key Focus Areas:\n",
        "\n",
        "1. **Listing Distribution Optimization:**\n",
        "   - The project begins by strategically assessing the distribution of Airbnb listings across different neighborhood groups. The objective is to ensure an optimal balance that maximizes exposure and accessibility for potential guests.\n",
        "\n",
        "---\n",
        "2. **Pricing Strategies and Competitiveness:**\n",
        "   - Detailed analysis of pricing strategies involves understanding the distribution of prices across neighborhood groups. Insights derived will empower hosts to optimize pricing for competitiveness while maximizing revenue.\n",
        "\n",
        "---\n",
        "3. **Host Recognition and Reward:**\n",
        "   - Recognition of the top hosts based on the number of listings managed forms a crucial aspect. This not only acknowledges exemplary host contributions but also fosters a positive host ecosystem.\n",
        "\n",
        "---\n",
        "4. **Seasonal Guest Distribution Analysis:**\n",
        "   - The project explores guest distribution patterns across days and months, shedding light on seasonal trends. This knowledge aids hosts in tailoring their strategies to accommodate varying guest demands throughout the year.\n",
        "\n",
        "---\n",
        "5. **Strategic Neighborhood Investment:**\n",
        "   - Identifying and investing in the top 10 neighborhoods based on listing numbers becomes a strategic move. This empowers hosts to capitalize on high-demand areas, maximizing returns on investment.\n",
        "\n",
        "---\n",
        "6. **Geographical Pricing Insights:**\n",
        "   - Utilizing geographical mapping, the project visualizes price distributions across NYC. This feature provides valuable information for both hosts and guests, offering insights into spatial pricing dynamics.\n",
        "\n",
        "---\n",
        "7. **Guest Experience Enhancement through Reviews:**\n",
        "   - The analysis includes a deep dive into guest reviews from a neighborhood group perspective. Identifying areas for improvement enhances overall guest satisfaction and contributes to positive host-guest interactions.\n",
        "\n",
        "---\n",
        "8. **Optimization of Minimum Nights Stayed:**\n",
        "   - Understanding the distribution of required minimum nights for stays helps hosts optimize their policies, meeting guest expectations and enhancing the overall booking experience.\n",
        "\n",
        "---\n",
        "9. **Identification of Cost-Friendly and Luxury Neighborhoods:**\n",
        "   - Highlighting the top 10 cheapest and top 10 most expensive neighborhoods aids guests in making informed choices based on their preferences, contributing to a diverse and inclusive Airbnb experience.\n",
        "---\n",
        "10. **Nested Neighborhood Exploration via Sunburst Chart:**\n",
        "    - The project employs a sunburst chart to visually explore the nested structure of the top 5 neighborhoods in each group. This hierarchical understanding provides nuanced insights into popular areas.\n",
        "---\n",
        "## Expected Outcomes:\n",
        "The Airbnb EDA Analysis project endeavors to provide actionable insights for hosts, empowering them to optimize their listings, pricing strategies, and overall guest experiences. Simultaneously, potential guests gain valuable information on pricing patterns, popular neighborhoods, and diverse accommodation options in the vibrant city of New York. The project's outcomes contribute to an informed and efficient Airbnb marketplace that benefits all stakeholders.\n"
      ],
      "metadata": {
        "id": "esxSWkxbTitW"
      }
    },
    {
      "cell_type": "markdown",
      "source": [
        "# **GitHub Link -**"
      ],
      "metadata": {
        "id": "w6K7xa23Elo4"
      }
    },
    {
      "cell_type": "markdown",
      "source": [
        "Provide your GitHub Link here."
      ],
      "metadata": {
        "id": "h1o69JH3Eqqn"
      }
    },
    {
      "cell_type": "markdown",
      "source": [
        "# **Problem Statement**\n"
      ],
      "metadata": {
        "id": "yQaldy8SH6Dl"
      }
    },
    {
      "cell_type": "markdown",
      "source": [
        "**1. Distribution of Airbnb Listings Across Neighbourhood Groups using Bar Chart**\n",
        "\n",
        "Investigate the distribution of Airbnb listings across different neighborhood groups in New York City. Identify which groups have the highest concentration of listings and explore the implications for hosts and guests.\n",
        "\n",
        "---\n",
        "\n",
        "**2. Percentage of Price Distribution by Neighbourhood Group using Pie Chart**\n",
        "\n",
        "Analyze the percentage distribution of Airbnb prices across neighborhood groups. Explore how pricing varies between different areas and understand the factors influencing price disparities.\n",
        "\n",
        "---\n",
        "\n",
        "**3. Distribution of Airbnb Prices with Kernel Density Estimate**\n",
        "\n",
        "Utilize Kernel Density Estimate to visualize the distribution of Airbnb prices in New York City. Identify peaks, trends, and potential outliers in pricing patterns.\n",
        "\n",
        "---\n",
        "\n",
        "**4. Top 10 Hosts as per Listings**\n",
        "\n",
        "Identify and rank the top 10 hosts based on the number of listings they manage. Explore the characteristics of these hosts and understand their impact on the Airbnb ecosystem.\n",
        "\n",
        "---\n",
        "\n",
        "**5. Comparison of Minimum Nights Stayed and Room Availability in Traffic Areas by Room Type**\n",
        "\n",
        "Analyze the minimum nights stayed and room availability in high-traffic areas. Explore how these metrics vary based on different room types and identify potential insights for hosts and guests.\n",
        "\n",
        "---\n",
        "\n",
        "**6. Guest Distribution in Days of the Months and Months of the Years by Room Type**\n",
        "\n",
        "Explore the distribution of guest stays across days of the months and months of the years. Analyze if there are specific patterns based on room types and understand the seasonal variations in guest demand.\n",
        "\n",
        "---\n",
        "\n",
        "**7. Top 10 Neighbourhoods based on Listings**\n",
        "\n",
        "Identify and rank the top 10 neighborhoods in New York City based on the number of Airbnb listings. Understand the popularity of these neighborhoods and assess their potential for hosts.\n",
        "\n",
        "---\n",
        "\n",
        "**8. Distribution of Airbnb Listings by Room Type in Each Neighbourhood Group**\n",
        "\n",
        "Investigate the distribution of Airbnb listings by room type within each neighborhood group. Understand the variety of accommodation options available in different areas.\n",
        "\n",
        "---\n",
        "\n",
        "**9. Price Distribution on NYC Map**\n",
        "\n",
        "Visualize the geographical distribution of Airbnb prices on a map of New York City. Explore how prices vary across different neighborhoods and identify areas with higher or lower pricing.\n",
        "\n",
        "---\n",
        "\n",
        "**10. Exploring Reviews in New York City Airbnb: A Neighborhood Group Perspective**\n",
        "\n",
        "Analyze guest reviews in New York City Airbnb listings, focusing on neighborhood groups. Explore common themes, sentiments, and potential areas for improvement.\n",
        "\n",
        "---\n",
        "\n",
        "**11. Required Stay By Number of Nights**\n",
        "\n",
        "Investigate the distribution of required minimum nights for Airbnb stays. Explore how hosts set minimum stay requirements and understand their impact on booking patterns.\n",
        "\n",
        "---\n",
        "\n",
        "**12. Top 10 Cheapest and Top 10 Most Expensive Neighbourhoods based on Average Price**\n",
        "\n",
        "Identify and rank the top 10 cheapest and top 10 most expensive neighborhoods based on the average price of Airbnb listings. Explore factors influencing pricing in these areas.\n",
        "\n",
        "---\n",
        "\n",
        "**13. Top 5 Neighbourhoods in Each Neighborhood Group using Sunburst Chart**\n",
        "\n",
        "Visualize the hierarchy of the top 5 neighborhoods within each neighborhood group using a sunburst chart. Explore the nested structure of popular neighborhoods.\n"
      ],
      "metadata": {
        "id": "rvMoaEkZP9uF"
      }
    },
    {
      "cell_type": "markdown",
      "source": [
        "#### **Define Your Business Objective?**"
      ],
      "metadata": {
        "id": "PH-0ReGfmX4f"
      }
    },
    {
      "cell_type": "markdown",
      "source": [
        "**Optimize Listing Distribution:**\n",
        "\n",
        "Objective: Ensure an optimal distribution of Airbnb listings across neighborhood groups to maximize exposure and accessibility for potential guests.\n",
        "Key Metrics: Number of listings per neighborhood group, distribution balance.\n",
        "\n",
        "---\n",
        "**Price Optimization and Competitiveness:**\n",
        "\n",
        "Objective: Understand and optimize price distribution across neighborhood groups to ensure competitiveness while maximizing host revenue.\n",
        "Key Metrics: Average price per neighborhood group, pricing distribution, competitiveness index.\n",
        "\n",
        "---\n",
        "**Identify Pricing Trends and Outliers:**\n",
        "\n",
        "Objective: Identify pricing trends and outliers using Kernel Density Estimate to inform hosts about competitive pricing and potential revenue opportunities.\n",
        "Key Metrics: Pricing distribution, KDE peaks, outlier detection.\n",
        "\n",
        "---\n",
        "**Recognize and Reward Top Hosts:**\n",
        "\n",
        "Objective: Recognize and reward top hosts based on the number of listings managed, fostering a positive host ecosystem.\n",
        "Key Metrics: Top hosts by listings, host performance metrics.\n",
        "\n",
        "---\n",
        "\n",
        "**Enhance Minimum Nights Stayed and Room Availability in Traffic Areas:**\n",
        "\n",
        "Objective: Optimize minimum nights stayed and room availability in high-traffic areas to cater to diverse guest preferences and maximize occupancy.\n",
        "Key Metrics: Minimum nights stayed, room availability, occupancy rates.\n",
        "\n",
        "---\n",
        "**Seasonal Guest Distribution Analysis:**\n",
        "\n",
        "Objective: Understand seasonal patterns of guest distribution to optimize marketing strategies and tailor experiences based on demand fluctuations.\n",
        "Key Metrics: Guest distribution by days of the months and months of the years, seasonal trends.\n",
        "\n",
        "---\n",
        "**Strategic Neighborhood Investment:**\n",
        "\n",
        "Objective: Identify and invest in the top 10 neighborhoods based on the number of listings to maximize returns and capitalize on high-demand areas.\n",
        "Key Metrics: Top neighborhoods by listings, growth potential.\n",
        "---\n",
        "**Optimize Listing Variety by Room Type:**\n",
        "\n",
        "Objective: Provide diverse accommodation options by optimizing the distribution of Airbnb listings by room type within each neighborhood group.\n",
        "Key Metrics: Room type distribution, variety index.\n",
        "\n",
        "---\n",
        "**Geographical Price Mapping:**\n",
        "\n",
        "Objective: Visualize the geographical distribution of Airbnb prices on the NYC map to inform both hosts and guests about pricing dynamics in different areas.\n",
        "Key Metrics: Price distribution on the map, spatial pricing patterns.\n",
        "\n",
        "---\n",
        "**Enhance Guest Experience through Review Analysis:**\n",
        "\n",
        "Objective: Explore guest reviews from a neighborhood group perspective to identify areas for improvement, ultimately enhancing overall guest satisfaction.\n",
        "Key Metrics: Sentiment analysis, common themes, satisfaction rates.\n",
        "\n",
        "---\n",
        "**Optimize Required Stay Duration:**\n",
        "\n",
        "Objective: Analyze the distribution of required minimum nights for stays to understand guest expectations and optimize stay duration policies.\n",
        "Key Metrics: Minimum nights distribution, average stay duration.\n",
        "\n",
        "---\n",
        "**Identify Cost-Friendly and Luxury Neighborhoods:**\n",
        "\n",
        "Objective: Identify the top 10 cheapest and top 10 most expensive neighborhoods based on average price to cater to diverse guest preferences.\n",
        "Key Metrics: Average price by neighborhood, cost-friendly and luxury indexes.\n",
        "\n",
        "---\n",
        "**Sunburst Chart for Nested Neighborhood Exploration:**\n",
        "\n",
        "Objective: Visualize the nested structure of the top 5 neighborhoods in each neighborhood group using a sunburst chart to provide a hierarchical understanding of popular areas.\n",
        "Key Metrics: Sunburst chart structure, hierarchy exploration.\n",
        "\n",
        "---"
      ],
      "metadata": {
        "id": "PhDvGCAqmjP1"
      }
    },
    {
      "cell_type": "markdown",
      "source": [
        "# **General Guidelines** : -  "
      ],
      "metadata": {
        "id": "mDgbUHAGgjLW"
      }
    },
    {
      "cell_type": "markdown",
      "source": [
        "1.   Well-structured, formatted, and commented code is required.\n",
        "2.   Exception Handling, Production Grade Code & Deployment Ready Code will be a plus. Those students will be awarded some additional credits.\n",
        "     \n",
        "     The additional credits will have advantages over other students during Star Student selection.\n",
        "       \n",
        "             [ Note: - Deployment Ready Code is defined as, the whole .ipynb notebook should be executable in one go\n",
        "                       without a single error logged. ]\n",
        "\n",
        "3.   Each and every logic should have proper comments.\n",
        "4. You may add as many number of charts you want. Make Sure for each and every chart the following format should be answered.\n",
        "        \n",
        "\n",
        "```\n",
        "# Chart visualization code\n",
        "```\n",
        "            \n",
        "\n",
        "*   Why did you pick the specific chart?\n",
        "*   What is/are the insight(s) found from the chart?\n",
        "* Will the gained insights help creating a positive business impact?\n",
        "Are there any insights that lead to negative growth? Justify with specific reason.\n",
        "\n",
        "5. You have to create at least 20 logical & meaningful charts having important insights.\n",
        "\n",
        "\n",
        "[ Hints : - Do the Vizualization in  a structured way while following \"UBM\" Rule.\n",
        "\n",
        "U - Univariate Analysis,\n",
        "\n",
        "B - Bivariate Analysis (Numerical - Categorical, Numerical - Numerical, Categorical - Categorical)\n",
        "\n",
        "M - Multivariate Analysis\n",
        " ]\n",
        "\n",
        "\n",
        "\n"
      ],
      "metadata": {
        "id": "ZrxVaUj-hHfC"
      }
    },
    {
      "cell_type": "markdown",
      "source": [
        "# ***Let's Begin !***"
      ],
      "metadata": {
        "id": "O_i_v8NEhb9l"
      }
    },
    {
      "cell_type": "markdown",
      "source": [
        "## ***1. Know Your Data***"
      ],
      "metadata": {
        "id": "HhfV-JJviCcP"
      }
    },
    {
      "cell_type": "markdown",
      "source": [
        "### Import Libraries"
      ],
      "metadata": {
        "id": "Y3lxredqlCYt"
      }
    },
    {
      "cell_type": "code",
      "source": [
        "# Import Libraries\n",
        "import matplotlib.pyplot as plt\n",
        "import matplotlib.pyplot as plt\n",
        "import seaborn as sns\n",
        "import pandas as pd\n",
        "import numpy as np\n",
        "import plotly.express as px\n",
        "!pip install missingno\n",
        "import missingno as msno\n",
        "import os"
      ],
      "metadata": {
        "id": "M8Vqi-pPk-HR"
      },
      "execution_count": null,
      "outputs": []
    },
    {
      "cell_type": "markdown",
      "source": [
        "### Dataset Loading"
      ],
      "metadata": {
        "id": "3RnN4peoiCZX"
      }
    },
    {
      "cell_type": "code",
      "source": [
        "# Load Dataset\n",
        "from google.colab import drive\n",
        "drive.mount('/content/drive')"
      ],
      "metadata": {
        "id": "4CkvbW_SlZ_R"
      },
      "execution_count": null,
      "outputs": []
    },
    {
      "cell_type": "code",
      "source": [
        "filepath= '/content/drive/MyDrive/Airbnb NYC 2019.csv'\n",
        "airbnb_df=pd.read_csv(filepath)"
      ],
      "metadata": {
        "id": "fbe1XcmtMO_C"
      },
      "execution_count": null,
      "outputs": []
    },
    {
      "cell_type": "markdown",
      "source": [
        "### Dataset First View"
      ],
      "metadata": {
        "id": "x71ZqKXriCWQ"
      }
    },
    {
      "cell_type": "code",
      "source": [
        "# Dataset First Look\n",
        "airbnb_df"
      ],
      "metadata": {
        "id": "LWNFOSvLl09H"
      },
      "execution_count": null,
      "outputs": []
    },
    {
      "cell_type": "markdown",
      "source": [
        "### Dataset Rows & Columns count"
      ],
      "metadata": {
        "id": "7hBIi_osiCS2"
      }
    },
    {
      "cell_type": "code",
      "source": [
        "# Dataset Rows & Columns count\n",
        "airbnb_df.columns"
      ],
      "metadata": {
        "id": "Kllu7SJgmLij"
      },
      "execution_count": null,
      "outputs": []
    },
    {
      "cell_type": "code",
      "source": [
        "airbnb_df.shape"
      ],
      "metadata": {
        "id": "6CeQub63M0V9"
      },
      "execution_count": null,
      "outputs": []
    },
    {
      "cell_type": "markdown",
      "source": [
        "### Dataset Information"
      ],
      "metadata": {
        "id": "JlHwYmJAmNHm"
      }
    },
    {
      "cell_type": "code",
      "source": [
        "# Dataset Info\n",
        "airbnb_df.info"
      ],
      "metadata": {
        "id": "e9hRXRi6meOf"
      },
      "execution_count": null,
      "outputs": []
    },
    {
      "cell_type": "markdown",
      "source": [
        "#### Duplicate Values"
      ],
      "metadata": {
        "id": "35m5QtbWiB9F"
      }
    },
    {
      "cell_type": "code",
      "source": [
        "airbnb_df[airbnb_df.duplicated()].shape"
      ],
      "metadata": {
        "id": "EhNx3DSGPGWe"
      },
      "execution_count": null,
      "outputs": []
    },
    {
      "cell_type": "markdown",
      "source": [
        "There is no duplicate value found in the dataset that's why we don't need to proceed the remove duplicat query but for our knowledge and rememberence this the query for dropduplicates\n",
        "```\n",
        "# Dropping duplicate values\n",
        "airbnb_df.drop_duplicates(inplace = True)\n",
        "\n",
        "```"
      ],
      "metadata": {
        "id": "FNIhno7A16kq"
      }
    },
    {
      "cell_type": "markdown",
      "source": [
        "#### Missing Values/Null Values"
      ],
      "metadata": {
        "id": "PoPl-ycgm1ru"
      }
    },
    {
      "cell_type": "code",
      "source": [
        "# Missing Values/Null Values Count\n",
        "airbnb_df.isnull().sum().sort_values(ascending = False)[:8]"
      ],
      "metadata": {
        "id": "GgHWkxvamxVg"
      },
      "execution_count": null,
      "outputs": []
    },
    {
      "cell_type": "code",
      "source": [
        "# Visualizing the missing values\n",
        "msno.matrix(airbnb_df)\n",
        "plt.title('Missing Values Matrix')\n",
        "plt.show()"
      ],
      "metadata": {
        "id": "3q5wnI3om9sJ"
      },
      "execution_count": null,
      "outputs": []
    },
    {
      "cell_type": "code",
      "source": [
        "# Assuming df is your DataFrame\n",
        "plt.figure(figsize=(10, 6))\n",
        "sns.heatmap(airbnb_df.isnull(), cbar=False, cmap='viridis')\n",
        "plt.title('Missing Values Heatmap')\n",
        "plt.show()"
      ],
      "metadata": {
        "id": "DC68s_tm35LG"
      },
      "execution_count": null,
      "outputs": []
    },
    {
      "cell_type": "markdown",
      "source": [
        "### What did you know about your dataset?"
      ],
      "metadata": {
        "id": "H0kj-8xxnORC"
      }
    },
    {
      "cell_type": "markdown",
      "source": [
        "### Before understanding the dataset we need to understand the business model so that we can understand the data flow which will help us to understand the dataset"
      ],
      "metadata": {
        "id": "gfoNAAC-nUe_"
      }
    },
    {
      "cell_type": "markdown",
      "source": [
        "  ![airbnb-works.jpg](data:image/jpeg;base64,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)"
      ],
      "metadata": {
        "id": "vncDsAP0Gaoa"
      }
    },
    {
      "cell_type": "markdown",
      "source": [
        "## ***2. Understanding Your Variables***"
      ],
      "metadata": {
        "id": "nA9Y7ga8ng1Z"
      }
    },
    {
      "cell_type": "code",
      "source": [
        "# Dataset Columns\n",
        "airbnb_df.columns"
      ],
      "metadata": {
        "id": "j7xfkqrt5Ag5"
      },
      "execution_count": null,
      "outputs": []
    },
    {
      "cell_type": "code",
      "source": [
        "# Dataset Describe\n",
        "airbnb_df.describe()"
      ],
      "metadata": {
        "id": "DnOaZdaE5Q5t"
      },
      "execution_count": null,
      "outputs": []
    },
    {
      "cell_type": "markdown",
      "source": [
        "### Variables Description"
      ],
      "metadata": {
        "id": "PBTbrJXOngz2"
      }
    },
    {
      "cell_type": "markdown",
      "source": [
        "### Here is the short description of the veriables\n",
        "\n",
        "|Veriables              | Description             |\n",
        "|:---               |:---                     |\n",
        "|**id**                 |        Unique ID of the listing|\n",
        "|**name**               |Name of the listing|\n",
        "|**host_id**            | Unique ID of the host|\n",
        "|**host_name**          |  Name of the host|\n",
        "|**neighbourhood_group**| location neighborhood area|\n",
        "|**latitude**            | Latitude range|\n",
        "|**longitude**           | Longitude range|\n",
        "|**room_type**           | Type of listing|\n",
        "|**price**               | Price of listing|\n",
        "|**minimum_nights**       | Minimum nights to be paid for|\n",
        "|**Number_of_reviews**   |Number of reviews|\n",
        "|**last_review**         |Content of the last review|\n",
        "|**reeviews_per_month**  |Number of checks per month|\n",
        "|**calculated_host_listing_count**| Total count|\n",
        "|**availability_365**| Availability around the year|\n"
      ],
      "metadata": {
        "id": "aJV4KIxSnxay"
      }
    },
    {
      "cell_type": "markdown",
      "source": [
        "### Check Unique Values for each variable."
      ],
      "metadata": {
        "id": "u3PMJOP6ngxN"
      }
    },
    {
      "cell_type": "code",
      "source": [
        "# Check Unique Values for each variable.\n",
        "unique_values = airbnb_df.nunique()\n",
        "print(unique_values)"
      ],
      "metadata": {
        "id": "zms12Yq5n-jE"
      },
      "execution_count": null,
      "outputs": []
    },
    {
      "cell_type": "markdown",
      "source": [
        "## 3. ***Data Wrangling***"
      ],
      "metadata": {
        "id": "dauF4eBmngu3"
      }
    },
    {
      "cell_type": "markdown",
      "source": [
        "### Data Wrangling Code"
      ],
      "metadata": {
        "id": "bKJF3rekwFvQ"
      }
    },
    {
      "cell_type": "code",
      "source": [
        "# Write your code to make your dataset analysis ready.\n",
        "# Finding Null values in the dataset\n",
        "airbnb_df.isnull().sum().sort_values(ascending = False)"
      ],
      "metadata": {
        "id": "wk-9a2fpoLcV"
      },
      "execution_count": null,
      "outputs": []
    },
    {
      "cell_type": "markdown",
      "source": [
        "### What all manipulations have you done and insights you found?"
      ],
      "metadata": {
        "id": "MSa1f5Uengrz"
      }
    },
    {
      "cell_type": "code",
      "source": [
        "# Drop unnecessary column\n",
        "# airbnb_df = airbnb_df.drop(['last_review'], axis=1)\n",
        "# We are not dropped this column because we areusing this column for analysis"
      ],
      "metadata": {
        "id": "ROCWl-yC4JBZ"
      },
      "execution_count": null,
      "outputs": []
    },
    {
      "cell_type": "code",
      "source": [
        "# Filling 0 to the missing values where required\n",
        "airbnb_df['reviews_per_month'] = airbnb_df['reviews_per_month'].replace(to_replace=np.nan,value=0).astype('int64')"
      ],
      "metadata": {
        "id": "tJqa1j5N4dTE"
      },
      "execution_count": null,
      "outputs": []
    },
    {
      "cell_type": "code",
      "source": [
        "# Filling unknown or no_name values\n",
        "airbnb_df['name'].fillna('unknown',inplace=True)\n",
        "airbnb_df['host_name'].fillna('no_name',inplace=True)"
      ],
      "metadata": {
        "id": "WhX4Nqav4_LS"
      },
      "execution_count": null,
      "outputs": []
    },
    {
      "cell_type": "code",
      "source": [
        "# Cross checking that the null values are removed or not\n",
        "airbnb_df.isnull().sum().sort_values(ascending = False)"
      ],
      "metadata": {
        "id": "NRj0LaK65YeR"
      },
      "execution_count": null,
      "outputs": []
    },
    {
      "cell_type": "markdown",
      "source": [
        "### Handiling Outlier in the Dataset\n",
        "####Using IQR Technique"
      ],
      "metadata": {
        "id": "NVehKAfN5sFF"
      }
    },
    {
      "cell_type": "code",
      "source": [
        "sns.boxplot(x = airbnb_df['price'])\n",
        "\n",
        "plt.show()"
      ],
      "metadata": {
        "id": "MObsIcRC5rey"
      },
      "execution_count": null,
      "outputs": []
    },
    {
      "cell_type": "code",
      "source": [
        "# writing a outlier function for removing outliers in important columns.\n",
        "def iqr_technique(DFcolumn):\n",
        "  Q1 = np.percentile(DFcolumn, 25)\n",
        "  Q3 = np.percentile(DFcolumn, 75)\n",
        "  IQR = Q3 - Q1\n",
        "  lower_range = Q1 - (1.5 * IQR)\n",
        "  upper_range = Q3 + (1.5 * IQR)                        # interquantile range\n",
        "\n",
        "  return lower_range,upper_range"
      ],
      "metadata": {
        "id": "2HZrOz2N6lpU"
      },
      "execution_count": null,
      "outputs": []
    },
    {
      "cell_type": "code",
      "source": [
        "\n",
        "lower_bound,upper_bound = iqr_technique(airbnb_df['price'])\n",
        "\n",
        "airbnb_df = airbnb_df[(airbnb_df.price>lower_bound) & (airbnb_df.price<upper_bound)]"
      ],
      "metadata": {
        "id": "IIXv6qe86zU6"
      },
      "execution_count": null,
      "outputs": []
    },
    {
      "cell_type": "code",
      "source": [
        "# so the outliers are removed from price column now check with boxplot and also check shape of new Dataframe!\n",
        "\n",
        "sns.boxplot(x = airbnb_df['price'])\n",
        "print(airbnb_df.shape)"
      ],
      "metadata": {
        "id": "127Su46r6-Bq"
      },
      "execution_count": null,
      "outputs": []
    },
    {
      "cell_type": "markdown",
      "source": [
        "Answer Here."
      ],
      "metadata": {
        "id": "LbyXE7I1olp8"
      }
    },
    {
      "cell_type": "markdown",
      "source": [
        "## ***4. Data Vizualization, Storytelling & Experimenting with charts : Understand the relationships between variables***"
      ],
      "metadata": {
        "id": "GF8Ens_Soomf"
      }
    },
    {
      "cell_type": "markdown",
      "source": [
        "#### Distribution of Airbnb Listings Across Neighbourhood Groups"
      ],
      "metadata": {
        "id": "0wOQAZs5pc--"
      }
    },
    {
      "cell_type": "code",
      "source": [
        "# Chart - 1 visualization code\n",
        "airbnb_df['neighbourhood_group'].value_counts()"
      ],
      "metadata": {
        "id": "7v_ESjsspbW7"
      },
      "execution_count": null,
      "outputs": []
    },
    {
      "cell_type": "code",
      "source": [
        "plt.figure(figsize=(8, 6))\n",
        "\n",
        "# Create a count plot\n",
        "sns.countplot(data=airbnb_df, x='neighbourhood_group')\n",
        "\n",
        "# Add title to the plot\n",
        "plt.title('Distribution of Airbnb Listings Across Neighbourhood Groups', fontsize=16)\n",
        "\n",
        "# Show the plot\n",
        "plt.show()\n"
      ],
      "metadata": {
        "id": "bbtOeBWmexUQ"
      },
      "execution_count": null,
      "outputs": []
    },
    {
      "cell_type": "markdown",
      "source": [
        "##### 1. Why did you pick the specific chart?"
      ],
      "metadata": {
        "id": "K5QZ13OEpz2H"
      }
    },
    {
      "cell_type": "markdown",
      "source": [
        "I picked a Bar chart because it easy to understand that how many Listings comes from various neighbouhood group"
      ],
      "metadata": {
        "id": "XESiWehPqBRc"
      }
    },
    {
      "cell_type": "markdown",
      "source": [
        "##### 2. What is/are the insight(s) found from the chart?"
      ],
      "metadata": {
        "id": "lQ7QKXXCp7Bj"
      }
    },
    {
      "cell_type": "markdown",
      "source": [
        "Queens and the Bronx have significantly fewer listings\n",
        "compared to Manhattan and Brooklyn, with 5,567 and 1,070\n",
        "listings and Staten Island has the fewest number of listings,\n",
        "with only 365.\\\n",
        "Despite being larger in size, the neighborhoods in Queens,\n",
        "the Bronx, and Staten Island have fewer listings on Airbnb\n",
        "compared to Manhattan, which has a smaller geographical\n",
        "area.\n",
        "This is why because the Manhattan is consider the business district of the New York and home owners are interested to rent there property"
      ],
      "metadata": {
        "id": "C_j1G7yiqdRP"
      }
    },
    {
      "cell_type": "markdown",
      "source": [
        "##### 3. Will the gained insights help creating a positive business impact?\n",
        "Are there any insights that lead to negative growth? Justify with specific reason.\n"
      ],
      "metadata": {
        "id": "448CDAPjqfQr"
      }
    },
    {
      "cell_type": "markdown",
      "source": [
        "Answer Here\\\n",
        "This could suggest that the demand for Airbnb rentals is\n",
        "higher in Manhattan compared to the other neighborhoods,\n",
        "leading to a higher concentration of listings in this area\\\n",
        "Alternatively, it could be that the supply of listings is higher\n",
        "in Manhattan due to a higher number of homeowners or\n",
        "property owners in this neighborhood who are willing to list\n",
        "their properties on Airbnb."
      ],
      "metadata": {
        "id": "3cspy4FjqxJW"
      }
    },
    {
      "cell_type": "markdown",
      "source": [
        "#### Price Distribution across Neighborhood_group"
      ],
      "metadata": {
        "id": "KSlN3yHqYklG"
      }
    },
    {
      "cell_type": "code",
      "source": [
        "# Chart - 2 visualization code\n",
        "# import matplotlib.pyplot as plt\n",
        "\n",
        "# Sample data\n",
        "airbnb_prices = airbnb_df.groupby('neighbourhood_group',).price.sum()\n",
        "\n",
        "localities =airbnb_df['neighbourhood_group']\n",
        "\n",
        "# Create a pie chart\n",
        "plt.figure(figsize=(6, 6))  # Set the figure size\n",
        "# plt.pie(airbnb_prices, labels=localities, autopct='%1.1f%%', startangle=140)\n",
        "airbnb_prices.plot.pie(explode = [0.03,0.03,0.03,0.03,0.03],autopct = '%1.2f%%', shadow = True)\n",
        "\n",
        "# Add a title\n",
        "plt.title('Percentage of Price Distribution Neighbourhood_group')\n",
        "\n"
      ],
      "metadata": {
        "id": "R4YgtaqtYklH"
      },
      "execution_count": null,
      "outputs": []
    },
    {
      "cell_type": "markdown",
      "source": [
        "##### 1. Why did you pick the specific chart?\n"
      ],
      "metadata": {
        "id": "t6dVpIINYklI"
      }
    },
    {
      "cell_type": "markdown",
      "source": [
        "\n",
        "Here I want to analyse the price distribution of lin=sting in the entire NYC and the percentage of contribution in the price of neighbourhood groups."
      ],
      "metadata": {
        "id": "5aaW0BYyYklI"
      }
    },
    {
      "cell_type": "markdown",
      "source": [
        "##### 2. What is/are the insight(s) found from the chart?"
      ],
      "metadata": {
        "id": "ijmpgYnKYklI"
      }
    },
    {
      "cell_type": "markdown",
      "source": [
        "\n",
        "From above chart we analyse that the price of listing property are higher in Manhattan and Brooklyn as compare to other neighbourhood groups"
      ],
      "metadata": {
        "id": "PSx9atu2YklI"
      }
    },
    {
      "cell_type": "markdown",
      "source": [
        "##### 3. Will the gained insights help creating a positive business impact?\n",
        "Are there any insights that lead to negative growth? Justify with specific reason."
      ],
      "metadata": {
        "id": "-JiQyfWJYklI"
      }
    },
    {
      "cell_type": "markdown",
      "source": [
        "\n",
        "It shows that the Airbnb business model is gained popularity in Manhattan and Brooklyn which have positive business impact"
      ],
      "metadata": {
        "id": "BcBbebzrYklV"
      }
    },
    {
      "cell_type": "markdown",
      "source": [
        "#### Distribution of Airbnb Prices with Kernel Density Estimate"
      ],
      "metadata": {
        "id": "EM7whBJCYoAo"
      }
    },
    {
      "cell_type": "code",
      "source": [
        "# Chart - 3 visualization code\n",
        "# Create a figure with a custom size\n",
        "plt.figure(figsize=(12, 5))\n",
        "\n",
        "# Set the seaborn theme to darkgrid\n",
        "sns.set_theme(style='darkgrid')\n",
        "\n",
        "# Create a histogram of the 'price' column of the Airbnb_df dataframe\n",
        "# using sns distplot function and specifying the color as red\n",
        "sns.histplot(airbnb_df['price'],kde = True,color=('y'))\n",
        "\n",
        "# Add labels to the x-axis and y-axis\n",
        "plt.xlabel('Price', fontsize=14)\n",
        "plt.ylabel('Density', fontsize=14)\n",
        "\n",
        "# Add a title to the plot\n",
        "plt.title('Distribution of Airbnb Prices with Kernel Density Estimate',fontsize=15)"
      ],
      "metadata": {
        "id": "t6GMdE67YoAp"
      },
      "execution_count": null,
      "outputs": []
    },
    {
      "cell_type": "markdown",
      "source": [
        "##### 1. Why did you pick the specific chart?"
      ],
      "metadata": {
        "id": "fge-S5ZAYoAp"
      }
    },
    {
      "cell_type": "markdown",
      "source": [
        "\n",
        "I chose this histogram to understand the price distribution in the range through which we can understand the pattern of pricing."
      ],
      "metadata": {
        "id": "5dBItgRVYoAp"
      }
    },
    {
      "cell_type": "markdown",
      "source": [
        "##### 2. What is/are the insight(s) found from the chart?"
      ],
      "metadata": {
        "id": "85gYPyotYoAp"
      }
    },
    {
      "cell_type": "markdown",
      "source": [
        "\n",
        "The range of prices being charged on Airbnb appears to be from 20 to 330 , with the majority of listings falling in :\n",
        "the price range of 50 to 150.\\\n",
        "The distribution of prices appears to have a peak in the 50 to 150 range, with a relatively lower density of listings in\n",
        "higher and lower price ranges.\\\n",
        "There may be fewer listings available at prices above 250 , as the density of listings drops significantly in this range."
      ],
      "metadata": {
        "id": "4jstXR6OYoAp"
      }
    },
    {
      "cell_type": "markdown",
      "source": [
        "##### 3. Will the gained insights help creating a positive business impact?\n",
        "Are there any insights that lead to negative growth? Justify with specific reason."
      ],
      "metadata": {
        "id": "RoGjAbkUYoAp"
      }
    },
    {
      "cell_type": "markdown",
      "source": [
        "\n",
        "As shown in the figure the price range 50 to 150 have the most of the list which means the there is lot of potential customer in the price range because of affordability of price\\\n",
        " while the range above 250 is tend to higher pirce segment now it is important to see that most of the price which are above 250 is belongs to which neighbourhood group which may clear the entire picture and we will analyse this in the below chart then we will understand where and why prices are higher in a specific neighbourhood group"
      ],
      "metadata": {
        "id": "zfJ8IqMcYoAp"
      }
    },
    {
      "cell_type": "markdown",
      "source": [
        "#### Top 10 Hosts as per listings"
      ],
      "metadata": {
        "id": "4Of9eVA-YrdM"
      }
    },
    {
      "cell_type": "code",
      "source": [
        "# Chart - 4 visualization code\n",
        "import plotly.express as px\n",
        "\n",
        "# Group the data by host_id and calculate the number of listings per host\n",
        "listings_per_host = airbnb_df.groupby(['host_id', 'host_name'])['id'].count().reset_index()\n",
        "listings_per_host = listings_per_host.sort_values(by='id', ascending=False)\n",
        "\n",
        "# Select the top 10 hosts\n",
        "top_hosts = listings_per_host.head(10)\n",
        "\n",
        "# Create a bar chart using Plotly Express\n",
        "fig = px.bar(\n",
        "    top_hosts,\n",
        "    x='host_name',\n",
        "    y='id',\n",
        "    labels={'id': 'Number of Listings'},\n",
        "    color='id',\n",
        "    color_continuous_scale='Jet',\n",
        "    title='Number of Listings per Host (Top 10 Hosts)'\n",
        ")\n",
        "\n",
        "# Rotate x-axis labels for readability\n",
        "fig.update_layout(xaxis=dict(tickangle=45, tickmode='array', tickvals=top_hosts['host_name']))\n",
        "\n",
        "# Show the plot\n",
        "fig.show()\n"
      ],
      "metadata": {
        "id": "irlUoxc8YrdO"
      },
      "execution_count": null,
      "outputs": []
    },
    {
      "cell_type": "markdown",
      "source": [
        "##### 1. Why did you pick the specific chart?"
      ],
      "metadata": {
        "id": "iky9q4vBYrdO"
      }
    },
    {
      "cell_type": "markdown",
      "source": [
        "\n",
        "I chose a bar chart in this code to visualize the distribution of listings per host because it effectively represents the number of listings for each host, making it easy to compare and identify hosts with the most listings. The bars show a clear visual hierarchy, and by sorting the data, we can focus on the top hosts, which is the main point of interest in this analysis. The x-axis displays host names for better readability, and the colors add some visual appeal to the chart. Overall, a bar chart is a suitable choice for this task due to its simplicity and ability to convey the information clearly."
      ],
      "metadata": {
        "id": "aJRCwT6DYrdO"
      }
    },
    {
      "cell_type": "markdown",
      "source": [
        "##### 2. What is/are the insight(s) found from the chart?"
      ],
      "metadata": {
        "id": "F6T5p64dYrdO"
      }
    },
    {
      "cell_type": "markdown",
      "source": [
        "\n",
        "From the above chart it is showing that the most listing are done from these host\\\n",
        " Competing hosts or property managers can use this data to understand their competition and adjust their strategies accordingly."
      ],
      "metadata": {
        "id": "Xx8WAJvtYrdO"
      }
    },
    {
      "cell_type": "markdown",
      "source": [
        "##### 3. Will the gained insights help creating a positive business impact?\n",
        "Are there any insights that lead to negative growth? Justify with specific reason."
      ],
      "metadata": {
        "id": "y-Ehk30pYrdP"
      }
    },
    {
      "cell_type": "markdown",
      "source": [
        "\n",
        " These insights can help Airbnb or property management companies identify hosts with high activity, potentially leading to partnership opportunities or improved host support for those who contribute the most to the platform's offerings."
      ],
      "metadata": {
        "id": "jLNxxz7MYrdP"
      }
    },
    {
      "cell_type": "markdown",
      "source": [
        "#### Comparison of Minimum Nights Stayed and Room Availability in Traffic Areas by Room Type"
      ],
      "metadata": {
        "id": "bamQiAODYuh1"
      }
    },
    {
      "cell_type": "code",
      "source": [
        "# This code performs a groupby operation on 'neighbourhood_group' and 'room_type'\n",
        "# and counts the occurrences of each combination based on the 'minimum_nights' column.\n",
        "# The result is then sorted in descending order based on the count.\n",
        "traffic_areas = airbnb_df.groupby(['neighbourhood_group','room_type'])['minimum_nights'].count().reset_index()\n",
        "traffic_areas = traffic_areas.sort_values(by='minimum_nights', ascending=False)\n",
        "traffic_areas"
      ],
      "metadata": {
        "id": "Sx_BB5-KgR1C"
      },
      "execution_count": null,
      "outputs": []
    },
    {
      "cell_type": "code",
      "source": [
        "# Chart - 5 visualization code\n",
        "# Extract room_type and stayed columns\n",
        "room_type = traffic_areas['room_type']\n",
        "stayed = traffic_areas['minimum_nights']\n",
        "\n",
        "room_type_stayed = traffic_areas[['room_type', 'minimum_nights']]\n",
        "availability_neighbourhood = airbnb_df[['neighbourhood_group', 'availability_365', 'room_type']]  # Ensure 'room_type' column is present\n",
        "\n",
        "# Create a figure with two subplots\n",
        "fig, axes = plt.subplots(nrows=1, ncols=2, figsize=(16, 6))\n",
        "\n",
        "# Subplot 1: Bar Plot - Minimum Number of Nights Stayed by Room Type in Traffic Areas\n",
        "colors = ['cyan']\n",
        "bars = axes[0].bar(room_type_stayed['room_type'], room_type_stayed['minimum_nights'], color=colors, width=0.4)\n",
        "axes[0].set_xlabel(\"Room Type\")\n",
        "axes[0].set_ylabel(\"Minimum Number of Nights Stayed\")\n",
        "axes[0].set_title(\"Traffic Areas\")\n",
        "\n",
        "# Subplot 2: Line Plot - Room Availability throughout Neighbourhood by Room Type\n",
        "sns.lineplot(data=availability_neighbourhood, x='neighbourhood_group', y='availability_365', hue='room_type', ax=axes[1])\n",
        "axes[1].set_title('Room Availability throughout Neighbourhood by Room Type', fontsize=16)\n",
        "\n",
        "# Adjust layout to prevent overlap\n",
        "plt.tight_layout()\n"
      ],
      "metadata": {
        "id": "TIJwrbroYuh3"
      },
      "execution_count": null,
      "outputs": []
    },
    {
      "cell_type": "markdown",
      "source": [
        "##### 1. Why did you pick the specific chart?"
      ],
      "metadata": {
        "id": "QHF8YVU7Yuh3"
      }
    },
    {
      "cell_type": "markdown",
      "source": [
        "\n",
        "I picked this chart to show the traffic areas means in which room type highly prefered by guest"
      ],
      "metadata": {
        "id": "dcxuIMRPYuh3"
      }
    },
    {
      "cell_type": "markdown",
      "source": [
        "##### 2. What is/are the insight(s) found from the chart?"
      ],
      "metadata": {
        "id": "GwzvFGzlYuh3"
      }
    },
    {
      "cell_type": "markdown",
      "source": [
        "\n",
        "As shown in the figure the entire home/apt and private room are the most likly offered to the guest and shared rooms are the least likely offered to the guest.\\\n",
        "This insight tells us that in the dataset, entire homes/apartments and private rooms are more frequently offered on Airbnb compared to shared rooms. It's valuable information for travelers looking for specific accommodation types, helping them understand the availability of different room types on the platform."
      ],
      "metadata": {
        "id": "uyqkiB8YYuh3"
      }
    },
    {
      "cell_type": "markdown",
      "source": [
        "##### 3. Will the gained insights help creating a positive business impact?\n",
        "Are there any insights that lead to negative growth? Justify with specific reason."
      ],
      "metadata": {
        "id": "qYpmQ266Yuh3"
      }
    },
    {
      "cell_type": "markdown",
      "source": [
        "\n",
        "Knowing which room types are more popular can help hosts tailor their listings to meet the demand, potentially increasing their booking rates and revenue. It also aids Airbnb in understanding user preferences and optimizing their platform."
      ],
      "metadata": {
        "id": "_WtzZ_hCYuh4"
      }
    },
    {
      "cell_type": "markdown",
      "source": [
        "#### Guest Distribution in Days of the Months and Months of the Years by Room Type"
      ],
      "metadata": {
        "id": "OH-pJp9IphqM"
      }
    },
    {
      "cell_type": "code",
      "source": [
        "# Chart - 6 visualization code\n",
        "airbnb_df['last_review'] = pd.to_datetime(airbnb_df['last_review'], errors='coerce')\n",
        "\n",
        "airbnb_df['Days'], airbnb_df['Month'], airbnb_df['Years'] = (airbnb_df['last_review'].dt.day, airbnb_df['last_review'].dt.month, airbnb_df['last_review'].dt.year)\n",
        "airbnb_df['last_review'] = pd.to_datetime(airbnb_df['last_review']).dt.date"
      ],
      "metadata": {
        "id": "kuRf4wtuphqN"
      },
      "execution_count": null,
      "outputs": []
    },
    {
      "cell_type": "code",
      "source": [
        "# as we've converted to date, null column date becomes system min date i.e. 1970-01-01\n",
        "# so we're removing these datas\n",
        "filtered_dt_df = airbnb_df[airbnb_df['Years'] != 1970]"
      ],
      "metadata": {
        "id": "C3eSiD0vw-L2"
      },
      "execution_count": null,
      "outputs": []
    },
    {
      "cell_type": "code",
      "source": [
        "fig, axes = plt.subplots(nrows=1, ncols=2, figsize=(22, 6))\n",
        "ax = axes.flatten()\n",
        "\n",
        "sns.histplot(data=filtered_dt_df, x='Days', hue='room_type', multiple=\"stack\", ax=ax[0])\n",
        "ax[1].set_title('No of Guest in months of the years')\n",
        "sns.histplot(data=filtered_dt_df, x='Month', hue='room_type', multiple=\"stack\", ax=ax[1])\n",
        "ax[0].set_title('No of Guest in days of the months')\n",
        "sns.despine(fig, left=True)"
      ],
      "metadata": {
        "id": "z8Rk2yd5xE1V"
      },
      "execution_count": null,
      "outputs": []
    },
    {
      "cell_type": "markdown",
      "source": [
        "##### 1. Why did you pick the specific chart?"
      ],
      "metadata": {
        "id": "bbFf2-_FphqN"
      }
    },
    {
      "cell_type": "markdown",
      "source": [
        "\n",
        "We choose this chart to analyse the peak period in the specific month in a year and specific days in a month"
      ],
      "metadata": {
        "id": "loh7H2nzphqN"
      }
    },
    {
      "cell_type": "markdown",
      "source": [
        "##### 2. What is/are the insight(s) found from the chart?"
      ],
      "metadata": {
        "id": "_ouA3fa0phqN"
      }
    },
    {
      "cell_type": "markdown",
      "source": [
        "\n",
        "\n",
        "So, we've created day month based on the last_review date, though it is not fully accurate many guest prefer to not give a rating (just assumption). We can see a trend where, first day and last day of month most number of guests. Also in the middle of the year, in June Month, there is a surge in guest count."
      ],
      "metadata": {
        "id": "VECbqPI7phqN"
      }
    },
    {
      "cell_type": "markdown",
      "source": [
        "##### 3. Will the gained insights help creating a positive business impact?\n",
        "Are there any insights that lead to negative growth? Justify with specific reason."
      ],
      "metadata": {
        "id": "Seke61FWphqN"
      }
    },
    {
      "cell_type": "markdown",
      "source": [
        "\n",
        "Not specifically this insight lead to negetive impact but it showing the trend of guests which will help to formulate strategies for increase the guests in the other period of time by providing some promotional discounts or freebies or discounts in the service charges"
      ],
      "metadata": {
        "id": "DW4_bGpfphqN"
      }
    },
    {
      "cell_type": "markdown",
      "source": [
        "#### Top 10 Neighbourhoods based on Listing"
      ],
      "metadata": {
        "id": "PIIx-8_IphqN"
      }
    },
    {
      "cell_type": "code",
      "source": [
        "# Chart - 7 visualization code\n",
        "# Get the top 10 values from the 'neighbourhood' column\n",
        "top_neighbourhoods = airbnb_df['neighbourhood'].value_counts().head(10)\n",
        "\n",
        "# Create a color palette with distinct colors\n",
        "colors = sns.color_palette(\"husl\", len(top_neighbourhoods))\n",
        "\n",
        "# Plot the bar chart with multiple colors\n",
        "plt.figure(figsize=(10, 6))\n",
        "top_neighbourhoods.plot(kind='bar', color=colors)\n",
        "\n",
        "# Add labels and title\n",
        "plt.xlabel('Neighbourhood')\n",
        "plt.ylabel('Count')\n",
        "plt.title('Top 10 Neighbourhoods based on Value Counts')\n",
        "\n",
        "# Show the plot\n",
        "plt.show()"
      ],
      "metadata": {
        "id": "lqAIGUfyphqO"
      },
      "execution_count": null,
      "outputs": []
    },
    {
      "cell_type": "markdown",
      "source": [
        "##### 1. Why did you pick the specific chart?"
      ],
      "metadata": {
        "id": "t27r6nlMphqO"
      }
    },
    {
      "cell_type": "markdown",
      "source": [
        "\n",
        "Colored bars help differentiate between different categories or groups, making it easier for viewers to identify and compare them."
      ],
      "metadata": {
        "id": "iv6ro40sphqO"
      }
    },
    {
      "cell_type": "markdown",
      "source": [
        "##### 2. What is/are the insight(s) found from the chart?"
      ],
      "metadata": {
        "id": "r2jJGEOYphqO"
      }
    },
    {
      "cell_type": "markdown",
      "source": [
        "\n",
        "The top neighbourhoods in the New York City in terms of listing counts are Williamburg,Bedford-Stuyvesant,Harlem,Bushwick and the Upper Westside\n",
        "The top neighbourhoods are primarily located in Brooklyn and Manhattan. This may be due to the fact that these boroughs have a higher overall population and the higher demand for housing"
      ],
      "metadata": {
        "id": "Po6ZPi4hphqO"
      }
    },
    {
      "cell_type": "markdown",
      "source": [
        "##### 3. Will the gained insights help creating a positive business impact?\n",
        "Are there any insights that lead to negative growth? Justify with specific reason."
      ],
      "metadata": {
        "id": "b0JNsNcRphqO"
      }
    },
    {
      "cell_type": "markdown",
      "source": [
        "\n",
        "There is no negative growth in this chart if the top 10 neighborhoods have consistently high value counts over time, it may indicate saturation. Saturation can lead to increased competition among hosts, potentially impacting the growth potential of these neighborhoods."
      ],
      "metadata": {
        "id": "xvSq8iUTphqO"
      }
    },
    {
      "cell_type": "markdown",
      "source": [
        "#### Distribution of Airbnb Listings by Room Type in Each Neighbourhood Group"
      ],
      "metadata": {
        "id": "BZR9WyysphqO"
      }
    },
    {
      "cell_type": "code",
      "source": [
        "# Chart - 8 visualization code\n",
        "# sns.countplot(data= airbnb_df, x = 'neighbourhood_group', hue = 'room_type')\n",
        "\n",
        "# Create a count plot using Seaborn\n",
        "sns.set(style=\"whitegrid\")\n",
        "plt.figure(figsize=(10, 6))\n",
        "sns.countplot(data=airbnb_df, x='neighbourhood_group', hue='room_type')\n",
        "\n",
        "# Add title to the plot\n",
        "plt.title('Distribution of Airbnb Listings by Room Type in Each Neighbourhood Group', fontsize=16)\n",
        "\n",
        "# Show the plot\n",
        "plt.show()\n"
      ],
      "metadata": {
        "id": "TdPTWpAVphqO"
      },
      "execution_count": null,
      "outputs": []
    },
    {
      "cell_type": "markdown",
      "source": [
        "##### 1. Why did you pick the specific chart?"
      ],
      "metadata": {
        "id": "jj7wYXLtphqO"
      }
    },
    {
      "cell_type": "markdown",
      "source": [
        "\n",
        "We use here grouped bar chart to analyse the roomtype availablility in different neighbourhood group"
      ],
      "metadata": {
        "id": "Ob8u6rCTphqO"
      }
    },
    {
      "cell_type": "markdown",
      "source": [
        "##### 2. What is/are the insight(s) found from the chart?"
      ],
      "metadata": {
        "id": "eZrbJ2SmphqO"
      }
    },
    {
      "cell_type": "markdown",
      "source": [
        "\n",
        "So, the above bar chart clearly showing that Manhattan and Brooklyn are have most of the room type availability in there localities which means the host are interested in renting their properties to the guests"
      ],
      "metadata": {
        "id": "mZtgC_hjphqO"
      }
    },
    {
      "cell_type": "markdown",
      "source": [
        "##### 3. Will the gained insights help creating a positive business impact?\n",
        "Are there any insights that lead to negative growth? Justify with specific reason."
      ],
      "metadata": {
        "id": "rFu4xreNphqO"
      }
    },
    {
      "cell_type": "markdown",
      "source": [
        "\n",
        "There is lower host listing in Bronx and Staten Island so there will be an opportunity in these neighbourhood groups where Airbnb can promote theire business we are not consider it as a negative growth but Airbnb will taken it as an opportunity so that business can grow in these localities"
      ],
      "metadata": {
        "id": "ey_0qi68phqO"
      }
    },
    {
      "cell_type": "markdown",
      "source": [
        "#### Price distribution on NYC map"
      ],
      "metadata": {
        "id": "YJ55k-q6phqO"
      }
    },
    {
      "cell_type": "code",
      "source": [
        "# Chart - 9 visualization code\n",
        "# Create a scatter plot using plotly express\n",
        "fig = px.scatter_mapbox(\n",
        "    airbnb_df,\n",
        "    lat='latitude',\n",
        "    lon='longitude',\n",
        "    color='price',\n",
        "    size='price',\n",
        "    color_continuous_scale=px.colors.sequential.Jet,\n",
        "    opacity=0.1,\n",
        "    width=1400,\n",
        "    height=700\n",
        ")\n",
        "\n",
        "# Update hovertemplate to include price\n",
        "fig.update_traces(hovertemplate='Price: $%{marker.color}')\n",
        "\n",
        "# Update the layout to include a mapbox style and token\n",
        "fig.update_layout(\n",
        "    mapbox_style=\"carto-positron\",\n",
        "    mapbox_zoom=10,\n",
        "    mapbox_center={\"lat\": airbnb_df['latitude'].mean(), \"lon\": airbnb_df['longitude'].mean()}\n",
        ")\n",
        "\n",
        "# Show the plot\n",
        "fig.show()\n"
      ],
      "metadata": {
        "id": "B2aS4O1ophqO"
      },
      "execution_count": null,
      "outputs": []
    },
    {
      "cell_type": "code",
      "source": [
        "plt.figure(figsize=(14, 6))\n",
        "sns.scatterplot(x=airbnb_df.longitude, y=airbnb_df.latitude, hue=airbnb_df.neighbourhood_group)\n",
        "plt.show()  # This will display the plot"
      ],
      "metadata": {
        "id": "88gaF1TK0ga2"
      },
      "execution_count": null,
      "outputs": []
    },
    {
      "cell_type": "markdown",
      "source": [
        "##### 1. Why did you pick the specific chart?"
      ],
      "metadata": {
        "id": "gCFgpxoyphqP"
      }
    },
    {
      "cell_type": "markdown",
      "source": [
        "The heatmap provides a geographical context to the data, making it easier to understand the spatial distribution of prices across different neighborhoods in New York City.\\\n",
        "The color gradient from blue (low prices) to red (high prices) provides a clear visual representation of price variations. This makes it easy to identify areas with high and low prices at a glance.\\\n",
        "Heatmaps can represent a large amount of data in a compact space. In this case, it’s showing price data for the entire city.\\\n",
        "Heatmaps are intuitive and easy to understand, making them a good choice for presenting complex data to a broad audience."
      ],
      "metadata": {
        "id": "TVxDimi2phqP"
      }
    },
    {
      "cell_type": "markdown",
      "source": [
        "##### 2. What is/are the insight(s) found from the chart?"
      ],
      "metadata": {
        "id": "OVtJsKN_phqQ"
      }
    },
    {
      "cell_type": "markdown",
      "source": [
        "\n",
        " The primary Central Business District (CBD) in New York City comprises **Midtown** and **Downtown Manhattan**. The chart appearing more **reddish** in the Manhattan area suggests that individuals visiting this region may prioritize business-related activities. This implies that people coming to Manhattan for business purposes may place a higher emphasis on room availability rather than price, leading them to be willing to pay a premium for accommodation in this area."
      ],
      "metadata": {
        "id": "ngGi97qjphqQ"
      }
    },
    {
      "cell_type": "markdown",
      "source": [
        "##### 3. Will the gained insights help creating a positive business impact?\n",
        "Are there any insights that lead to negative growth? Justify with specific reason."
      ],
      "metadata": {
        "id": "lssrdh5qphqQ"
      }
    },
    {
      "cell_type": "markdown",
      "source": [
        "**Positive Impact:**\n",
        "\n",
        "**Strategic Pricing:** Businesses, especially in the real estate or hospitality industry, can use this data to strategically price their properties based on the prevailing rates in different neighborhoods.\\\n",
        "**Investment Decisions:** This data can guide businesses on where to invest in new properties. Areas with higher prices might indicate high demand and could be lucrative investment opportunities.\\\n",
        "**Potential Negative Impact:**\n",
        "\n",
        "**Over-reliance on Data:** While the heatmap provides valuable insights, over-reliance on this data could lead to missed opportunities. For instance, areas with lower prices might be up-and-coming neighborhoods with potential for growth.\\\n",
        "**Neglecting Other Factors:** Price is just one factor to consider. Other factors like property condition, local amenities, and future development plans also significantly impact the business."
      ],
      "metadata": {
        "id": "tBpY5ekJphqQ"
      }
    },
    {
      "cell_type": "markdown",
      "source": [
        "#### Exploring Reviews in New York City Airbnb: A Neighborhood group Perspective"
      ],
      "metadata": {
        "id": "U2RJ9gkRphqQ"
      }
    },
    {
      "cell_type": "code",
      "source": [
        "# Chart - 10 visualization code\n",
        "# Group the data by neighborhood group and calculate the total number of reviews\n",
        "reviews_by_neighbourhood_group = airbnb_df.groupby(\"neighbourhood_group\")[\"number_of_reviews\"].sum()\n",
        "\n",
        "fig, axes = plt.subplots(nrows=1, ncols=2, figsize=(15, 6))\n",
        "\n",
        "# Subplot 1: Pie Chart - Number of Reviews by Neighborhood Group\n",
        "axes[0].pie(reviews_by_neighbourhood_group, labels=reviews_by_neighbourhood_group.index, autopct='%1.1f%%')\n",
        "axes[0].set_title(\"Number of Reviews by Neighborhood Group in New York City\", fontsize=15)\n",
        "\n",
        "# Subplot 2: Line Plot - Number of Reviews by Neighborhood Group in New York City\n",
        "sns.lineplot(data=airbnb_df, x='neighbourhood_group', y='number_of_reviews', hue='room_type', ax=axes[1])\n",
        "axes[1].set_title('Number of Reviews by Neighborhood Group in New York City', fontsize=16)\n",
        "\n",
        "# Adjust layout to prevent overlap\n",
        "plt.tight_layout()\n",
        "\n",
        "# Show the combined plot\n",
        "plt.show()"
      ],
      "metadata": {
        "id": "GM7a4YP4phqQ"
      },
      "execution_count": null,
      "outputs": []
    },
    {
      "cell_type": "markdown",
      "source": [
        "##### 1. Why did you pick the specific chart?"
      ],
      "metadata": {
        "id": "1M8mcRywphqQ"
      }
    },
    {
      "cell_type": "markdown",
      "source": [
        " **Pie charts** are excellent for showing the proportion of whole categories. In this case, it’s used to show the proportion of reviews by neighborhood group in New York City. Each slice of the pie represents a different neighborhood, and the size of the slice corresponds to its proportion of the total reviews.\\\n",
        " **Line graphs** are great for showing trends over a variable, which can be time, or in this case, different neighborhood groups. It’s used here to show the number of reviews for different room types across various neighborhoods. Each line represents a different room type, and the points on the line correspond to the number of reviews in each neighborhood.\n"
      ],
      "metadata": {
        "id": "8agQvks0phqQ"
      }
    },
    {
      "cell_type": "markdown",
      "source": [
        "##### 2. What is/are the insight(s) found from the chart?"
      ],
      "metadata": {
        "id": "tgIPom80phqQ"
      }
    },
    {
      "cell_type": "markdown",
      "source": [
        "\n",
        "From the above two graphs, Staten Island has most busiest Shared Room as well as Most available Private Room. Brroklyn and Manhattan has quite similar availabilities. On the other hand, from Price vs Availability graph, we can notice almost uniform distribution i.e. A particular room type of a particular price range can be available throughout year. \\ Also there are 1295 total properties that are available 365 days a year. Manhattan tops this list with 572 properties while Brooklyn stands at second with 453 properties available."
      ],
      "metadata": {
        "id": "Qp13pnNzphqQ"
      }
    },
    {
      "cell_type": "markdown",
      "source": [
        "##### 3. Will the gained insights help creating a positive business impact?\n",
        "Are there any insights that lead to negative growth? Justify with specific reason."
      ],
      "metadata": {
        "id": "JMzcOPDDphqR"
      }
    },
    {
      "cell_type": "markdown",
      "source": [
        "**Positive Impact:**\n",
        "\n",
        "**Understanding Customer Preferences:** The data shows that Brooklyn and Manhattan have the highest number of reviews, suggesting these areas are popular among customers. Businesses can target these areas for marketing efforts or expansion.\\\n",
        "**Product Differentiation:** The line chart shows different trends for private rooms, entire homes/apartments, and shared rooms. This could help businesses understand what type of rooms are preferred in each neighborhood, allowing them to tailor their offerings accordingly.\n",
        "\n",
        "**Potential Negative Impact:**\n",
        "\n",
        "**Over-saturation:** If too many businesses target the popular areas (Brooklyn and Manhattan), it could lead to over-saturation of the market, potentially leading to negative growth due to increased competition.\n",
        "**Neglecting Emerging Markets:** Focusing too much on popular areas might cause businesses to overlook emerging markets in Queens, Bronx, and Staten Island. If these areas grow in popularity over time, businesses that neglected them could experience negative growth.\n",
        "There is no negative impact in this chart we are just showing the type of room available in the various neighbourhood group"
      ],
      "metadata": {
        "id": "R4Ka1PC2phqR"
      }
    },
    {
      "cell_type": "markdown",
      "source": [
        "#### Required stay By Number of nights"
      ],
      "metadata": {
        "id": "x-EpHcCOp1ci"
      }
    },
    {
      "cell_type": "code",
      "source": [
        "# Chart - 11 visualization code\n",
        "\n",
        "# Group the DataFrame by the minimum_nights column and count the number of rows in each group\n",
        "min_nights_count = airbnb_df.groupby('minimum_nights').size().reset_index(name = 'count')\n",
        "\n",
        "# Sort the resulting DataFrame in descending order by the count column\n",
        "min_nights_count = min_nights_count.sort_values('count', ascending=False)\n",
        "\n",
        "# Select the top 10 rows\n",
        "min_nights_count = min_nights_count.head(10)\n",
        "\n",
        "# Reset the index\n",
        "min_nights_count = min_nights_count.reset_index(drop=True)\n",
        "\n",
        "# Display the resulting DataFrame\n",
        "min_nights_count"
      ],
      "metadata": {
        "id": "mAQTIvtqp1cj"
      },
      "execution_count": null,
      "outputs": []
    },
    {
      "cell_type": "code",
      "source": [
        "\n",
        "# Extract the minimum_nights and count columns from the DataFrame\n",
        "minimum_nights = min_nights_count['minimum_nights']\n",
        "count = min_nights_count['count']\n",
        "\n",
        "# Create the bar plot using Plotly Express with a color scale\n",
        "fig = px.bar(\n",
        "    x=minimum_nights,\n",
        "    y=count,\n",
        "    color=count,  # Use the count values to determine the color\n",
        "    color_continuous_scale='Magma',  # Choose a color scale (adjust as needed)\n",
        "    labels={'x': 'Minimum Nights', 'y': 'Count'},\n",
        "    title='Stay Requirement by Minimum Nights'\n",
        ")\n",
        "\n",
        "# Show the plot\n",
        "fig.show()\n"
      ],
      "metadata": {
        "id": "B72qGfnUjofj"
      },
      "execution_count": null,
      "outputs": []
    },
    {
      "cell_type": "markdown",
      "source": [
        "##### 1. Why did you pick the specific chart?"
      ],
      "metadata": {
        "id": "X_VqEhTip1ck"
      }
    },
    {
      "cell_type": "markdown",
      "source": [
        "Bar charts are excellent for comparing individual groups or categories of data. In this case, it’s comparing the counts of different minimum nights required for stay\\\n",
        "The height of each bar corresponds to the count, making it easy to compare different categories at a glance."
      ],
      "metadata": {
        "id": "-vsMzt_np1ck"
      }
    },
    {
      "cell_type": "markdown",
      "source": [
        "##### 2. What is/are the insight(s) found from the chart?"
      ],
      "metadata": {
        "id": "8zGJKyg5p1ck"
      }
    },
    {
      "cell_type": "markdown",
      "source": [
        "The manority of listing on Airbnb have a minimum stay requirement of 1 or 2 nights, with 12067 and 11080 listings, respectively\n",
        "\n",
        "The number of listing with a minimum stay requirement decreases as the length of stay increases, with 7375 listings requiring a minimum stay of 3 nights and so on.\n",
        "\n",
        "There are relatively few listing with a minimum stay requirement of 30 nights or more with 3489"
      ],
      "metadata": {
        "id": "ZYdMsrqVp1ck"
      }
    },
    {
      "cell_type": "markdown",
      "source": [
        "##### 3. Will the gained insights help creating a positive business impact?\n",
        "Are there any insights that lead to negative growth? Justify with specific reason."
      ],
      "metadata": {
        "id": "PVzmfK_Ep1ck"
      }
    },
    {
      "cell_type": "markdown",
      "source": [
        "The insights gained from the bar chart can indeed have a positive business impact, especially for businesses in the hospitality industry such as hotels or vacation rentals. Here’s how:\n",
        "\n",
        "**Optimizing Stay Requirements:** By understanding the distribution of stay requirements, businesses can optimize their minimum night stay policy to cater to the most common customer preferences, potentially increasing bookings and revenue.\n",
        "\n",
        "**Pricing Strategy:** If there’s a high demand for certain stay durations (e.g., 5 nights), businesses might consider premium pricing for these popular choices."
      ],
      "metadata": {
        "id": "druuKYZpp1ck"
      }
    },
    {
      "cell_type": "markdown",
      "source": [
        "#### Top 10 Cheapest and top 10 Most Expensive Neighbourhoods based on Average Price"
      ],
      "metadata": {
        "id": "n3dbpmDWp1ck"
      }
    },
    {
      "cell_type": "code",
      "source": [
        "# Chart - 12 visualization code\n",
        "\n",
        "\n",
        "import plotly.graph_objects as go\n",
        "\n",
        "neighbourhood_prices_cheap = airbnb_df.groupby('neighbourhood')['price'].agg(np.mean).nsmallest(10).reset_index()\n",
        "neighbourhood_prices_expensive = airbnb_df.groupby('neighbourhood')['price'].agg(np.mean).nlargest(10).reset_index()\n",
        "\n",
        "# Combine the data for both cheapest and most expensive neighborhoods\n",
        "combined_df = pd.concat([neighbourhood_prices_cheap, neighbourhood_prices_expensive])\n",
        "\n",
        "# Add a 'Category' column to differentiate between cheapest and most expensive\n",
        "combined_df['Category'] =  ['Cheapest'] * 10 + ['Most Expensive'] * 10\n",
        "\n",
        "# Create a grouped bar chart using Plotly\n",
        "fig = go.Figure()\n",
        "\n",
        "for category in combined_df['Category'].unique():\n",
        "    subset = combined_df[combined_df['Category'] == category]\n",
        "    fig.add_trace(go.Bar(\n",
        "        x=subset['price'],\n",
        "        y=subset['neighbourhood'],\n",
        "        name=category,\n",
        "        orientation='h',\n",
        "        marker_color='darkblue' if category == 'Most Expensive' else 'darkred'\n",
        "    ))\n",
        "\n",
        "# Customize the layout\n",
        "fig.update_layout(\n",
        "    title='Comparison of Top 10 Cheapest and Most Expensive Neighbourhoods based on Average Price',\n",
        "    xaxis_title='Average Price',\n",
        "    yaxis_title='Neighbourhood',\n",
        "    barmode='group',\n",
        "    legend_title_text='Category',\n",
        "    title_font=dict(color='black', size=18),\n",
        ")\n",
        "\n",
        "# Show the combined chart\n",
        "fig.show()\n"
      ],
      "metadata": {
        "id": "bwevp1tKp1ck"
      },
      "execution_count": null,
      "outputs": []
    },
    {
      "cell_type": "markdown",
      "source": [
        "##### 1. Why did you pick the specific chart?"
      ],
      "metadata": {
        "id": "ylSl6qgtp1ck"
      }
    },
    {
      "cell_type": "markdown",
      "source": [
        "\n",
        "I chose a bar chart because it's ideal for comparing listing prices in the top 5 cheapest and 5 mostexpensive neighborhoods. It's straightforward, offers clear labels, and allows easy price comparison across neighborhoods"
      ],
      "metadata": {
        "id": "m2xqNkiQp1ck"
      }
    },
    {
      "cell_type": "markdown",
      "source": [
        "##### 2. What is/are the insight(s) found from the chart?"
      ],
      "metadata": {
        "id": "ZWILFDl5p1ck"
      }
    },
    {
      "cell_type": "markdown",
      "source": [
        "**Cheapest Neighborhoods:** The neighborhoods with the lowest average prices are Bull’s Head, Hunts Point, Soundview, Tremont, and Concourse. These areas could be attractive to budget-conscious customers.\\\n",
        "**Most Expensive Neighborhoods:** The neighborhoods with the highest average prices are Greenwich Village, Financial District, Flatiron District, West Village, and Tribeca. These areas are likely popular among customers with a higher budget.\\\n",
        "**Price Disparity:** There is a significant disparity between the average prices of the cheapest and most expensive neighborhoods. This suggests a wide range of pricing options for customers, which could indicate a diverse market."
      ],
      "metadata": {
        "id": "x-lUsV2mp1ck"
      }
    },
    {
      "cell_type": "markdown",
      "source": [
        "##### 3. Will the gained insights help creating a positive business impact?\n",
        "Are there any insights that lead to negative growth? Justify with specific reason."
      ],
      "metadata": {
        "id": "M7G43BXep1ck"
      }
    },
    {
      "cell_type": "markdown",
      "source": [
        "\n",
        "**Positive Business Impact:**\n",
        "\n",
        "**Targeted Marketing**: Knowing the most expensive neighborhoods like Greenwich Village and Financial District can help businesses target their marketing efforts towards customers in these areas who are likely to have higher spending power.\\\n",
        "**Pricing Strategy:** Understanding the price range across different neighborhoods can help businesses set competitive prices for their products or services.\\\n",
        "**Potential Negative Impact:**\n",
        "\n",
        "**Over-saturation:** If many businesses target the same expensive neighborhoods, it could lead to market saturation, increased competition, and potentially negative growth.\\\n",
        "**Neglecting Potential Markets:** Focusing only on the most expensive neighborhoods might cause businesses to miss opportunities in the cheaper neighborhoods like Bull’s Head and Hunts Point. If these areas experience growth or demographic changes, businesses that overlooked them might face negative growth."
      ],
      "metadata": {
        "id": "5wwDJXsLp1cl"
      }
    },
    {
      "cell_type": "markdown",
      "source": [
        "#### Top 5 Neighbourhoods in Each Neighborhood Group"
      ],
      "metadata": {
        "id": "Ag9LCva-p1cl"
      }
    },
    {
      "cell_type": "code",
      "source": [
        "# Group by 'neighbourhood_group' and 'neighbourhood', and count the number of listings\n",
        "df = airbnb_df.groupby(['neighbourhood_group', 'neighbourhood']).size().reset_index(name='count')\n",
        "\n",
        "# Sort by count in descending order within each neighbourhood_group\n",
        "df = df.sort_values(by=['neighbourhood_group', 'count'], ascending=[True, False])\n",
        "\n",
        "# Select the top 10 neighborhoods for each neighbourhood_group\n",
        "df_top_5 = df.groupby('neighbourhood_group').head(5)\n",
        "df_top_5"
      ],
      "metadata": {
        "id": "6MEtxIf-Ov_i"
      },
      "execution_count": null,
      "outputs": []
    },
    {
      "cell_type": "code",
      "source": [
        "# Chart - 13 visualization code\n",
        "# Create a sunburst chart\n",
        "fig = px.sunburst(df_top_5, path=['neighbourhood_group', 'neighbourhood'], values='count')\n",
        "\n",
        "# Update layout and show the plot\n",
        "fig.update_layout(title='Top 5 Neighbourhoods in Each Neighborhood Group', width=1000, height=600)\n",
        "fig.show()\n"
      ],
      "metadata": {
        "id": "EUfxeq9-p1cl"
      },
      "execution_count": null,
      "outputs": []
    },
    {
      "cell_type": "markdown",
      "source": [
        "##### 1. Why did you pick the specific chart?"
      ],
      "metadata": {
        "id": "E6MkPsBcp1cl"
      }
    },
    {
      "cell_type": "markdown",
      "source": [
        "\n",
        "Pie charts allow viewers to quickly grasp the relative sizes of the neighbourhoods within each group and compare them at a glance"
      ],
      "metadata": {
        "id": "V22bRsFWp1cl"
      }
    },
    {
      "cell_type": "markdown",
      "source": [
        "##### 2. What is/are the insight(s) found from the chart?"
      ],
      "metadata": {
        "id": "2cELzS2fp1cl"
      }
    },
    {
      "cell_type": "markdown",
      "source": [
        "\n",
        "* **Brooklyn’s Top Neighborhoods:** The chart shows the top five neighborhoods in\n",
        "Brooklyn for Airbnb bookings. These are Williamsburg, Bedford-Stuyvesant, Bushwick, Crown Heights, and Greenpoint.\\\n",
        "* **Manhattan’s Top Neighborhoods:** In Manhattan, the top five neighborhoods for Airbnb bookings are Harlem, Upper West Side, East Village, Hell’s Kitchen, and Midtown."
      ],
      "metadata": {
        "id": "ozQPc2_Ip1cl"
      }
    },
    {
      "cell_type": "markdown",
      "source": [
        "##### 3. Will the gained insights help creating a positive business impact?\n",
        "Are there any insights that lead to negative growth? Justify with specific reason."
      ],
      "metadata": {
        "id": "3MPXvC8up1cl"
      }
    },
    {
      "cell_type": "markdown",
      "source": [
        "\n",
        "Understanding the top neighbourhoods can help Airbnb target its marketing and partnership efforts more effectively. For instance, they can collaborate with local businesses in these areas for promotions or offer special deals to attract more hosts and guests.\\\n",
        "**Potential Negative Impact:** If resources are heavily concentrated in these top neighbourhoods, it might lead to market saturation, leaving little room for growth. Also, other neighbourhoods might be neglected, missing out on potential opportunities."
      ],
      "metadata": {
        "id": "GL8l1tdLp1cl"
      }
    },
    {
      "cell_type": "markdown",
      "source": [
        "#### Chart - 14 - Correlation Heatmap"
      ],
      "metadata": {
        "id": "NC_X3p0fY2L0"
      }
    },
    {
      "cell_type": "code",
      "source": [
        "num_df1= airbnb_df[['id','host_id','latitude','longitude','price','minimum_nights','number_of_reviews','reviews_per_month','calculated_host_listings_count','availability_365',]]"
      ],
      "metadata": {
        "id": "afF0EYWIeWHW"
      },
      "execution_count": null,
      "outputs": []
    },
    {
      "cell_type": "code",
      "source": [
        "# Correlation Heatmap visualization code\n",
        "correlation_matrix = num_df1.corr()\n",
        "\n",
        "# Create a heatmap using seaborn\n",
        "plt.figure(figsize=(10, 8))\n",
        "sns.heatmap(correlation_matrix, annot=True, cmap='coolwarm', fmt=\".2f\", linewidths=.5)\n",
        "plt.title('Correlation Heatmap')\n",
        "plt.show()"
      ],
      "metadata": {
        "id": "xyC9zolEZNRQ"
      },
      "execution_count": null,
      "outputs": []
    },
    {
      "cell_type": "markdown",
      "source": [
        "##### 1. Why did you pick the specific chart?"
      ],
      "metadata": {
        "id": "UV0SzAkaZNRQ"
      }
    },
    {
      "cell_type": "markdown",
      "source": [
        "**Visual Clarity:** Heatmaps provide a color-coded visual summary of information, making it easier to understand complex data sets. Darker colors represent higher correlation.\\\n",
        "**Efficiency:** It allows for simultaneous analysis of the correlation between every pair of variables in a dataset, saving time and effort.\\\n",
        "**Identifying Relationships:** It can help identify patterns and relationships between variables that might not be immediately obvious."
      ],
      "metadata": {
        "id": "DVPuT8LYZNRQ"
      }
    },
    {
      "cell_type": "markdown",
      "source": [
        "##### 2. What is/are the insight(s) found from the chart?"
      ],
      "metadata": {
        "id": "YPEH6qLeZNRQ"
      }
    },
    {
      "cell_type": "markdown",
      "source": [
        "The correlation heatmap provides insights into the relationships between different variables in your dataset. Here are some key insights:\n",
        "\n",
        "**Reviews and Frequency:** There is a strong positive correlation (0.56) between the number of reviews and reviews per month. This suggests that listings with more reviews tend to have a higher frequency of reviews.\\\n",
        "**Price and Location:** Price and longitude have a moderate negative correlation (-0.31). This could indicate that listings located further west (lower longitude) tend to have higher prices.\\\n",
        "**Minimum Nights and Location:** Minimum nights and latitude have almost no correlation (0.03), suggesting that the requirement for minimum nights does not significantly vary with the latitude of the listing.\n",
        "These insights can be useful for understanding the factors that influence the price and popularity of listings. However, correlation does not imply causation, and these findings should be further investigated with more rigorous statistical analysis. Please note that these are general insights and the specific insights for your context might vary."
      ],
      "metadata": {
        "id": "bfSqtnDqZNRR"
      }
    },
    {
      "cell_type": "markdown",
      "source": [
        "#### Chart - 15 - Pair Plot"
      ],
      "metadata": {
        "id": "q29F0dvdveiT"
      }
    },
    {
      "cell_type": "code",
      "source": [
        "# Pair Plot visualization code\n",
        "# create a pairplot using the seaborn library to visualize the relationships between different variables in the Airbnb NYC dataset\n",
        "sns.pairplot(airbnb_df)\n",
        "\n",
        "# show the plot\n",
        "plt.show()"
      ],
      "metadata": {
        "id": "o58-TEIhveiU"
      },
      "execution_count": null,
      "outputs": []
    },
    {
      "cell_type": "markdown",
      "source": [
        "##### 1. Why did you pick the specific chart?"
      ],
      "metadata": {
        "id": "EXh0U9oCveiU"
      }
    },
    {
      "cell_type": "markdown",
      "source": [
        "**Visualizing Relationships:** Pairplot allows us to visualize the relationship between different variables in our dataset. It plots pairwise relationships in a dataset, allowing us to see both the distribution of single variables and relationships between two variables.\n",
        "\n",
        "**Handling Different Types of Variables:** Pairplot can handle both continuous and categorical variables1. This makes it a versatile tool for visualizing different types of data.\n",
        "\n",
        "**Univariate and Bivariate Distributions:** The diagonal plots in a pairplot are the univariate plots which show the distribution of a single variable. The off-diagonal cells represent bivariate distributions, showing the relationship for the (n, 2) combination of variables in a DataFrame as a matrix of plots.\n",
        "\n",
        "**High-Level Interface:** Seaborn, which includes the pairplot function, provides a high-level interface for drawing attractive and informative statistical graphics. This makes it easier to generate complex visualizations."
      ],
      "metadata": {
        "id": "eMmPjTByveiU"
      }
    },
    {
      "cell_type": "markdown",
      "source": [
        "##### 2. What is/are the insight(s) found from the chart?"
      ],
      "metadata": {
        "id": "22aHeOlLveiV"
      }
    },
    {
      "cell_type": "markdown",
      "source": [
        "Answer Here"
      ],
      "metadata": {
        "id": "uPQ8RGwHveiV"
      }
    },
    {
      "cell_type": "markdown",
      "source": [
        "## **5. Solution to Business Objective**"
      ],
      "metadata": {
        "id": "JcMwzZxoAimU"
      }
    },
    {
      "cell_type": "markdown",
      "source": [
        "#### What do you suggest the client to achieve Business Objective ?\n",
        "Explain Briefly."
      ],
      "metadata": {
        "id": "8G2x9gOozGDZ"
      }
    },
    {
      "cell_type": "markdown",
      "source": [
        "To achieve the business objectives in the context of the Airbnb EDA Analysis project, I would recommend the following strategies:\n",
        "\n",
        "**Optimize Listing Distribution:**\n",
        "\n",
        "Utilize insights from the analysis to strategically optimize the distribution of Airbnb listings across different neighborhood groups.\n",
        "Concentrate on high-demand areas and ensure a balanced presence to maximize exposure.\\\n",
        "**Dynamic Pricing Strategies:**\n",
        "\n",
        "Implement dynamic pricing strategies based on the analysis of pricing dynamics across neighborhood groups.\n",
        "Adjust pricing to remain competitive while maximizing revenue, taking into account seasonal trends and events.\\\n",
        "**Host Recognition and Engagement:**\n",
        "\n",
        "Recognize and reward top hosts to foster a positive host ecosystem.\n",
        "Encourage engagement through exclusive incentives, training sessions, or community events.\\\n",
        "**Enhance Guest Experience:**\n",
        "\n",
        "Act on feedback from guest reviews to enhance the overall guest experience.\n",
        "Focus on improving amenities, communication, and other aspects highlighted in reviews.\\\n",
        "**Strategic Investment in Neighborhoods:**\n",
        "\n",
        "Invest strategically in the top neighborhoods based on listing numbers.\n",
        "Explore partnerships or promotional activities to boost visibility in these key areas.\\\n",
        "**Geographical Insights for Marketing:**\n",
        "\n",
        "Leverage geographical pricing insights for targeted marketing efforts.\n",
        "Highlight spatial pricing dynamics to attract guests looking for specific experiences or affordability.\\\n",
        "**Optimize Minimum Nights Stayed Policies:**\n",
        "\n",
        "Optimize minimum nights stayed policies based on the analysis.\n",
        "Align policies with guest expectations to enhance the overall booking experience.\\\n",
        "**Diversify Offerings in Cost-Friendly Areas:**\n",
        "\n",
        "Diversify offerings in cost-friendly neighborhoods to cater to a broader audience.\n",
        "Consider introducing promotions or discounts in these areas to attract more guests.\\\n",
        "**Sunburst Chart Insights for Targeted Marketing:**\n",
        "\n",
        "Utilize insights from the sunburst chart for targeted marketing campaigns.\n",
        "Tailor marketing efforts to highlight the unique features of popular neighborhoods.\\\n",
        "**Regularly Review and Adapt Strategies:**\n",
        "\n",
        "Continuously monitor the market dynamics and adapt strategies accordingly.\n",
        "Stay agile to changes in guest preferences, market trends, and competitive landscape.\n",
        "By implementing these strategies, the client can work towards optimizing their Airbnb business, providing a better experience for both hosts and guests, and maximizing returns on their investments in various neighborhoods."
      ],
      "metadata": {
        "id": "pASKb0qOza21"
      }
    },
    {
      "cell_type": "markdown",
      "source": [
        "# **Conclusion**"
      ],
      "metadata": {
        "id": "gCX9965dhzqZ"
      }
    },
    {
      "cell_type": "markdown",
      "source": [
        "In conclusion, the Airbnb EDA Analysis project has provided a comprehensive understanding of various facets of the New York City Airbnb ecosystem. From the distribution of listings across neighborhood groups to pricing dynamics, host performance, and guest behaviors, the analysis has unearthed valuable insights that can significantly impact business strategies.\n",
        "\n",
        "The optimization of listing distribution emerged as a key focus, with recommendations to strategically balance the presence of listings across different neighborhood groups. Understanding pricing strategies and competitiveness is crucial for hosts to maximize revenue while remaining attractive to guests. Recognition and reward for top hosts contribute to fostering a positive host ecosystem, while enhancements based on guest reviews contribute to an overall improved guest experience.\n",
        "\n",
        "Insights into seasonal guest distribution, strategic neighborhood investments, and geographical pricing dynamics provide actionable intelligence for targeted marketing efforts and resource allocation. The sunburst chart's nuanced exploration of nested neighborhoods offers a unique perspective for tailored marketing campaigns.\n",
        "\n",
        "The recommendations emphasize the need for continuous adaptation to market dynamics, staying responsive to changes in guest preferences, and maintaining a flexible approach to optimize business outcomes. The project outcomes are poised to empower hosts to make informed decisions, enhance their business strategies, and contribute to the overall efficiency and vibrancy of the Airbnb marketplace in New York City."
      ],
      "metadata": {
        "id": "Fjb1IsQkh3yE"
      }
    },
    {
      "cell_type": "markdown",
      "source": [
        "### ***Hurrah! You have successfully completed your EDA Capstone Project !!!***"
      ],
      "metadata": {
        "id": "gIfDvo9L0UH2"
      }
    }
  ]
}